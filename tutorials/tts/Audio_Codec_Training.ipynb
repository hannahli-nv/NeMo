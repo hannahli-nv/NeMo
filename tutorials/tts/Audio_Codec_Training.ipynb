{
  "cells": [
    {
      "cell_type": "markdown",
      "metadata": {
        "id": "rtBDkKqVGZJ8"
      },
      "source": [
        "# Introduction"
      ]
    },
    {
      "cell_type": "markdown",
      "metadata": {
        "id": "pZ2QSsXuGbMe"
      },
      "source": [
        "In this tutorial we show how to run the scripts for training or fine-tuning an audio codecs."
      ]
    },
    {
      "cell_type": "markdown",
      "metadata": {
        "id": "7X-TwhdTGmlc"
      },
      "source": [
        "# License"
      ]
    },
    {
      "cell_type": "markdown",
      "metadata": {
        "id": "fCQUeZRPGnoe"
      },
      "source": [
        "> Copyright (c) 2024, NVIDIA CORPORATION & AFFILIATES. All rights reserved.\n",
        ">\n",
        "> Licensed under the Apache License, Version 2.0 (the \"License\"); you may not use this file except in compliance with the License. You may obtain a copy of the License at\n",
        ">\n",
        "> http://www.apache.org/licenses/LICENSE-2.0\n",
        ">\n",
        "> Unless required by applicable law or agreed to in writing, software distributed under the License is distributed on an \"AS IS\" BASIS, WITHOUT WARRANTIES OR CONDITIONS OF ANY KIND, either express or implied. See the License for the specific language governing permissions and limitations under the License."
      ]
    },
    {
      "cell_type": "markdown",
      "metadata": {
        "id": "3OZassNG5xff"
      },
      "source": [
        "# Install"
      ]
    },
    {
      "cell_type": "code",
      "execution_count": null,
      "metadata": {
        "id": "WZvQvPkIhRi3"
      },
      "outputs": [],
      "source": [
        "BRANCH = 'main'\n",
        "# Install NeMo library. If you are running locally (rather than on Google Colab), comment out the below line\n",
        "# and instead follow the instructions at https://github.com/NVIDIA/NeMo#Installation\n",
        "!python -m pip install git+https://github.com/NVIDIA/NeMo.git@$BRANCH#egg=nemo_toolkit[all]"
      ]
    },
    {
      "cell_type": "code",
      "execution_count": null,
      "metadata": {
        "id": "tvsgWO_WhV3M"
      },
      "outputs": [],
      "source": [
        "NEMO_ROOT_DIR = \"/content/nemo\"\n",
        "# Download local version of NeMo scripts. If you are running locally and want to use your own local NeMo code,\n",
        "# comment out the below line and set NEMO_ROOT_DIR to your local path.\n",
        "!git clone -b $BRANCH https://github.com/NVIDIA/NeMo.git $NEMO_ROOT_DIR"
      ]
    },
    {
      "cell_type": "markdown",
      "metadata": {
        "id": "KAbH7N427FdT"
      },
      "source": [
        "# Configuration"
      ]
    },
    {
      "cell_type": "code",
      "execution_count": null,
      "metadata": {
        "id": "ottMqahi7H74"
      },
      "outputs": [],
      "source": [
        "from pathlib import Path\n",
        "\n",
        "# Choose target sample rate for codec.\n",
        "# This notebook has out of the box configurations for 16000, 22050, 24000, and 44100.\n",
        "SAMPLE_RATE = 16000\n",
        "\n",
        "# Configure nemo paths\n",
        "NEMO_DIR = Path(NEMO_ROOT_DIR)\n",
        "NEMO_EXAMPLES_DIR = NEMO_DIR / \"examples\" / \"tts\"\n",
        "NEMO_CONFIG_DIR = NEMO_EXAMPLES_DIR / \"conf\"\n",
        "NEMO_SCRIPT_DIR = NEMO_DIR / \"scripts\" / \"dataset_processing\" / \"tts\""
      ]
    },
    {
      "cell_type": "markdown",
      "metadata": {
        "id": "fM4QPsLTnzK7"
      },
      "source": [
        "# Dataset Preparation"
      ]
    },
    {
      "cell_type": "markdown",
      "metadata": {
        "id": "tkZC6Dl7KRl6"
      },
      "source": [
        "For our tutorial, we use a subset of [VCTK](https://datashare.ed.ac.uk/handle/10283/2950) dataset with 5 speakers (p225-p229)."
      ]
    },
    {
      "cell_type": "code",
      "execution_count": null,
      "metadata": {
        "id": "sYzvAYr2vo1K"
      },
      "outputs": [],
      "source": [
        "import os\n",
        "import tarfile\n",
        "import wget\n",
        "\n",
        "from nemo.collections.asr.parts.utils.manifest_utils import read_manifest, write_manifest"
      ]
    },
    {
      "cell_type": "code",
      "execution_count": null,
      "metadata": {
        "id": "aoxN1QsUzX-k"
      },
      "outputs": [],
      "source": [
        "# Create dataset directory\n",
        "root_dir = Path(\"/content\")\n",
        "data_root = root_dir / \"data\"\n",
        "\n",
        "data_root.mkdir(parents=True, exist_ok=True)"
      ]
    },
    {
      "cell_type": "code",
      "execution_count": null,
      "metadata": {
        "id": "mArlQd5Hk36b"
      },
      "outputs": [],
      "source": [
        "# Download the dataset\n",
        "dataset_url = \"https://vctk-subset.s3.amazonaws.com/vctk_subset_multispeaker.tar.gz\"\n",
        "dataset_tar_filepath = data_root / \"vctk.tar.gz\"\n",
        "\n",
        "if not os.path.exists(dataset_tar_filepath):\n",
        "    wget.download(dataset_url, out=str(dataset_tar_filepath))"
      ]
    },
    {
      "cell_type": "code",
      "execution_count": null,
      "metadata": {
        "id": "p987cjtOy9C7"
      },
      "outputs": [],
      "source": [
        "# Extract the dataset\n",
        "with tarfile.open(dataset_tar_filepath) as tar_f:\n",
        "    tar_f.extractall(data_root)"
      ]
    },
    {
      "cell_type": "code",
      "execution_count": null,
      "metadata": {
        "id": "Ko6dxYJW0i3G"
      },
      "outputs": [],
      "source": [
        "DATA_DIR = data_root / \"vctk_subset_multispeaker\""
      ]
    },
    {
      "cell_type": "code",
      "execution_count": null,
      "metadata": {
        "id": "We5FHYQt5BeO"
      },
      "outputs": [],
      "source": [
        "# Visualize the raw dataset\n",
        "train_raw_filepath = DATA_DIR / \"train.json\"\n",
        "!head $train_raw_filepath"
      ]
    },
    {
      "cell_type": "markdown",
      "metadata": {
        "id": "i3jsk2HCMSU5"
      },
      "source": [
        "## Manifest Processing"
      ]
    },
    {
      "cell_type": "markdown",
      "metadata": {
        "id": "N8WuAGJsMHRn"
      },
      "source": [
        "The downloaded manifest is formatted for TTS training, which contains metadata such as text and speaker.\n",
        "\n",
        "For codec training we only need the `audio_filepath`. The `audio_filepath` field can either be an *absolute path*, or a *relative path* with the root directory provided as an argument to each script. Here we use relative paths.\n",
        "\n",
        "If you include `duration` the training script will automatically calculate the total size of every dataset used, and can be useful for filtering based on utterance length."
      ]
    },
    {
      "cell_type": "code",
      "execution_count": null,
      "metadata": {
        "id": "zoCRrKQ20VZP"
      },
      "outputs": [],
      "source": [
        "def update_manifest(data_type):\n",
        "    input_filepath = DATA_DIR / f\"{data_type}.json\"\n",
        "    output_filepath = DATA_DIR / f\"{data_type}_raw.json\"\n",
        "\n",
        "    entries = read_manifest(input_filepath)\n",
        "    new_entries = []\n",
        "    for entry in entries:\n",
        "        # Provide relative path instead of absolute path\n",
        "        audio_filepath = entry[\"audio_filepath\"].replace(\"audio/\", \"\")\n",
        "        duration = round(entry[\"duration\"], 2)\n",
        "        new_entry = {\n",
        "            \"audio_filepath\": audio_filepath,\n",
        "            \"duration\": duration\n",
        "        }\n",
        "        new_entries.append(new_entry)\n",
        "\n",
        "    write_manifest(output_path=output_filepath, target_manifest=new_entries, ensure_ascii=False)"
      ]
    },
    {
      "cell_type": "code",
      "execution_count": null,
      "metadata": {
        "id": "PaCc3GCG1UbH"
      },
      "outputs": [],
      "source": [
        "update_manifest(\"dev\")\n",
        "update_manifest(\"train\")"
      ]
    },
    {
      "cell_type": "code",
      "execution_count": null,
      "metadata": {
        "id": "bVLIB3Ip1Aqn"
      },
      "outputs": [],
      "source": [
        "# Visualize updated 'audio_filepath' field.\n",
        "train_filepath = DATA_DIR / \"train_raw.json\"\n",
        "!head $train_filepath"
      ]
    },
    {
      "cell_type": "markdown",
      "metadata": {
        "id": "alrRDWio41qi"
      },
      "source": [
        "## Audio Preprocessing"
      ]
    },
    {
      "cell_type": "markdown",
      "metadata": {
        "id": "4WfEaMwpUsFt"
      },
      "source": [
        "Next we process the audio data using [preprocess_audio.py](https://github.com/NVIDIA/NeMo/blob/main/scripts/dataset_processing/tts/preprocess_audio.py).\n",
        "\n",
        "During this step we can apply the following transformations:\n",
        "\n",
        "1. Resample the audio from 48khz to the target sample rate for codec training.\n",
        "2. Remove long silence from the beginning and end of each audio file. This can be done using an *energy* based approach which will work on clean audio, or using *voice activity detection (VAD)* which is slower but also works on audio with background or static noise (eg. from a microphone). Here we suggest VAD because some audio in VCTK has background noise."
      ]
    },
    {
      "cell_type": "code",
      "execution_count": null,
      "metadata": {
        "id": "WEvIefjnd7AG"
      },
      "outputs": [],
      "source": [
        "import IPython.display as ipd"
      ]
    },
    {
      "cell_type": "code",
      "execution_count": null,
      "metadata": {
        "id": "-qEuCH8S4vFP"
      },
      "outputs": [],
      "source": [
        "# Python wrapper to invoke the given bash script with the given input args\n",
        "def run_script(script, args):\n",
        "    args = ' \\\\'.join(args)\n",
        "    cmd = f\"python {script} \\\\{args}\"\n",
        "\n",
        "    print(cmd.replace(\" \\\\\", \"\\n\"))\n",
        "    print()\n",
        "    !$cmd"
      ]
    },
    {
      "cell_type": "code",
      "execution_count": null,
      "metadata": {
        "id": "0kQ1UDnGfdX6"
      },
      "outputs": [],
      "source": [
        "audio_preprocessing_script = NEMO_SCRIPT_DIR / \"preprocess_audio.py\"\n",
        "\n",
        "# Directory with raw audio data\n",
        "input_audio_dir = DATA_DIR / \"audio\"\n",
        "# Directory to write preprocessed audio to\n",
        "output_audio_dir = DATA_DIR / \"audio_preprocessed\"\n",
        "# Whether to overwrite existing audio, if it exists in the output directory\n",
        "overwrite_audio = True\n",
        "# Whether to overwrite output manifest, if it exists\n",
        "overwrite_manifest = True\n",
        "# Number of threads to parallelize audio processing across\n",
        "num_workers = 4\n",
        "# Format of output audio files. Use \"flac\" to compress to a smaller file size.\n",
        "output_format = \"flac\"\n",
        "# Method for silence trimming. Can use \"energy.yaml\" or \"vad.yaml\".\n",
        "trim_config_path = NEMO_CONFIG_DIR / \"trim\" / \"vad.yaml\"\n",
        "\n",
        "def preprocess_audio(data_type):\n",
        "    input_filepath = DATA_DIR / f\"{data_type}_raw.json\"\n",
        "    output_filepath = DATA_DIR / f\"{data_type}_manifest.json\"\n",
        "\n",
        "    args = [\n",
        "        f\"--input_manifest={input_filepath}\",\n",
        "        f\"--output_manifest={output_filepath}\",\n",
        "        f\"--input_audio_dir={input_audio_dir}\",\n",
        "        f\"--output_audio_dir={output_audio_dir}\",\n",
        "        f\"--num_workers={num_workers}\",\n",
        "        f\"--output_sample_rate={SAMPLE_RATE}\",\n",
        "        f\"--output_format={output_format}\",\n",
        "        f\"--trim_config_path={trim_config_path}\"\n",
        "    ]\n",
        "    if overwrite_manifest:\n",
        "        args.append(\"--overwrite_manifest\")\n",
        "    if overwrite_audio:\n",
        "        args.append(\"--overwrite_audio\")\n",
        "\n",
        "    run_script(audio_preprocessing_script, args)"
      ]
    },
    {
      "cell_type": "code",
      "execution_count": null,
      "metadata": {
        "id": "ai0zbXSOriuY"
      },
      "outputs": [],
      "source": [
        "preprocess_audio(\"dev\")"
      ]
    },
    {
      "cell_type": "code",
      "execution_count": null,
      "metadata": {
        "id": "NUKnidQYfgDo"
      },
      "outputs": [],
      "source": [
        "preprocess_audio(\"train\")"
      ]
    },
    {
      "cell_type": "markdown",
      "metadata": {
        "id": "x2yhJtsj2lDR"
      },
      "source": [
        "We should listen to a few audio files before and after the processing so be sure we configured it correctly.\n",
        "\n",
        "Note that the processed audio is shorter because we trimmed the leading and trailing silence."
      ]
    },
    {
      "cell_type": "code",
      "execution_count": null,
      "metadata": {
        "id": "_fM3GwJxkjOA"
      },
      "outputs": [],
      "source": [
        "audio_file = \"p228_009.wav\"\n",
        "audio_filepath = input_audio_dir / audio_file\n",
        "processed_audio_filepath = output_audio_dir / audio_file.replace(\".wav\", \".flac\")\n",
        "\n",
        "print(\"Original audio.\")\n",
        "ipd.display(ipd.Audio(audio_filepath))\n",
        "\n",
        "print(\"Processed audio.\")\n",
        "ipd.display(ipd.Audio(processed_audio_filepath))"
      ]
    },
    {
      "cell_type": "markdown",
      "metadata": {
        "id": "oRO842MUyODC"
      },
      "source": [
        "# Audio Codec Training"
      ]
    },
    {
      "cell_type": "markdown",
      "metadata": {
        "id": "E4wUKYOfH8ax"
      },
      "source": [
        "Here we show how to train an audio codec model from scratch. Instructions and checkpoints for fine-tuning will be provided later.\n"
      ]
    },
    {
      "cell_type": "code",
      "execution_count": null,
      "metadata": {
        "id": "pqfl9jAYMJob"
      },
      "outputs": [],
      "source": [
        "import torch\n",
        "from omegaconf import OmegaConf"
      ]
    },
    {
      "cell_type": "code",
      "execution_count": null,
      "metadata": {
        "id": "jK2rr-Kr6Qg8"
      },
      "outputs": [],
      "source": [
        "dataset_name = \"vctk\"\n",
        "audio_dir = DATA_DIR / \"audio_preprocessed\"\n",
        "train_manifest_filepath = DATA_DIR / \"train_manifest.json\"\n",
        "dev_manifest_filepath = DATA_DIR / \"dev_manifest.json\""
      ]
    },
    {
      "cell_type": "code",
      "execution_count": null,
      "metadata": {
        "id": "Vr4D-NB-yQx8"
      },
      "outputs": [],
      "source": [
        "audio_codec_training_script = NEMO_EXAMPLES_DIR / \"audio_codec.py\"\n",
        "\n",
        "# The total number of training steps will be (epochs * steps_per_epoch)\n",
        "epochs = 10\n",
        "steps_per_epoch = 10\n",
        "\n",
        "# Config files specifying all codec parameters\n",
        "codec_config_dir = NEMO_CONFIG_DIR / \"audio_codec\"\n",
        "\n",
        "# Select model config depending on target sample rate.\n",
        "if SAMPLE_RATE == 16000:\n",
        "  codec_config_filename = \"audio_codec_16000.yaml\"\n",
        "  ngc_model_name = \"audio_codec_16khz_small\"\n",
        "  ngc_model_url = \"https://api.ngc.nvidia.com/v2/models/nvidia/nemo/audio_codec_16khz_small/versions/v1/files/audio_codec_16khz_small.nemo\"\n",
        "elif SAMPLE_RATE == 22050:\n",
        "  codec_config_filename = \"mel_codec_22050.yaml\"\n",
        "  ngc_model_name = None\n",
        "  ngc_model_url = None\n",
        "elif SAMPLE_RATE == 24000:\n",
        "  codec_config_filename = \"audio_codec_24000.yaml\"\n",
        "  ngc_model_name = None\n",
        "  ngc_model_url = None\n",
        "elif SAMPLE_RATE == 44100:\n",
        "  codec_config_filename = \"mel_codec_44100.yaml\"\n",
        "  ngc_model_name = None\n",
        "  ngc_model_url = None\n",
        "else:\n",
        "  raise ValueError(f\"Config file not available for sample rate {SAMPLE_RATE}\")\n",
        "\n",
        "config_filepath = codec_config_dir / codec_config_filename\n",
        "omega_conf = OmegaConf.load(config_filepath)\n",
        "model_name = omega_conf.name\n",
        "\n",
        "# Name of the experiment that will determine where it is saved locally and in TensorBoard and WandB\n",
        "run_id = \"test_run\"\n",
        "exp_dir = root_dir / \"exps\"\n",
        "codec_exp_output_dir = exp_dir / model_name / run_id\n",
        "# Directory where predicted audio will be stored periodically throughout training\n",
        "codec_log_dir = codec_exp_output_dir / \"logs\"\n",
        "# Optionally log visualization of learned codes.\n",
        "log_dequantized = True\n",
        "# Optionally log predicted audio and other artifacts to WandB\n",
        "log_to_wandb = False\n",
        "# Optionally log predicted audio and other artifacts to Tensorboard\n",
        "log_to_tensorboard = False\n",
        "\n",
        "if torch.cuda.is_available():\n",
        "    accelerator=\"gpu\"\n",
        "    batch_size = 4\n",
        "else:\n",
        "    accelerator=\"cpu\"\n",
        "    batch_size = 2\n",
        "\n",
        "args = [\n",
        "    f\"--config-path={codec_config_dir}\",\n",
        "    f\"--config-name={codec_config_filename}\",\n",
        "    f\"max_epochs={epochs}\",\n",
        "    f\"weighted_sampling_steps_per_epoch={steps_per_epoch}\",\n",
        "    f\"batch_size={batch_size}\",\n",
        "    f\"log_dir={codec_log_dir}\",\n",
        "    f\"exp_manager.exp_dir={exp_dir}\",\n",
        "    f\"+exp_manager.version={run_id}\",\n",
        "    f\"model.log_config.log_wandb={log_to_wandb}\",\n",
        "    f\"model.log_config.log_tensorboard={log_to_tensorboard}\",\n",
        "    f\"model.log_config.generators.0.log_dequantized={log_dequantized}\",\n",
        "    f\"trainer.accelerator={accelerator}\",\n",
        "    f\"+train_ds_meta.{dataset_name}.manifest_path={train_manifest_filepath}\",\n",
        "    f\"+train_ds_meta.{dataset_name}.audio_dir={audio_dir}\",\n",
        "    f\"+val_ds_meta.{dataset_name}.manifest_path={dev_manifest_filepath}\",\n",
        "    f\"+val_ds_meta.{dataset_name}.audio_dir={audio_dir}\",\n",
        "    f\"+log_ds_meta.{dataset_name}.manifest_path={dev_manifest_filepath}\",\n",
        "    f\"+log_ds_meta.{dataset_name}.audio_dir={audio_dir}\"\n",
        "]\n",
        "\n",
        "# Optionally load pretrained checkpoint\n",
        "if ngc_model_name is not None:\n",
        "  model_checkpoint_path = root_dir / \"models\" / f\"{ngc_model_name}.nemo\"\n",
        "\n",
        "  if not os.path.exists(model_checkpoint_path):\n",
        "      model_checkpoint_path.parent.mkdir(exist_ok=True)\n",
        "      wget.download(ngc_model_url, out=str(model_checkpoint_path))\n",
        "\n",
        "  args.append(f\"+init_from_nemo_model={model_checkpoint_path}\")"
      ]
    },
    {
      "cell_type": "code",
      "execution_count": null,
      "metadata": {
        "id": "Bn8lQG0PxWGi"
      },
      "outputs": [],
      "source": [
        "# If an error occurs, log the entire stacktrace.\n",
        "os.environ[\"HYDRA_FULL_ERROR\"] = \"1\""
      ]
    },
    {
      "cell_type": "code",
      "execution_count": null,
      "metadata": {
        "id": "yUxFCNrE3Ywi"
      },
      "outputs": [],
      "source": [
        "# Do the model training. For some configurations this step might hang when using CPU.\n",
        "run_script(audio_codec_training_script, args)"
      ]
    },
    {
      "cell_type": "markdown",
      "metadata": {
        "id": "BBPIpS-lL6z9"
      },
      "source": [
        "During training, the model will automatically save predictions for all audio files specified in the `log_ds_meta` manifest."
      ]
    },
    {
      "cell_type": "code",
      "execution_count": null,
      "metadata": {
        "id": "rSFOm1Sg46Lh"
      },
      "outputs": [],
      "source": [
        "codec_log_epoch_dir = codec_log_dir / \"epoch_10\" / dataset_name\n",
        "!ls $codec_log_epoch_dir"
      ]
    },
    {
      "cell_type": "markdown",
      "metadata": {
        "id": "oCJs7oCLMIjD"
      },
      "source": [
        "This makes it easy to listen to the audio to determine how well the model is performing. We can decide to stop training when either:\n",
        "\n",
        "*   The predicted audio sounds almost identical to the original audio.\n",
        "*   The predicted audio stops improving in between epochs.\n",
        "\n",
        "**Note that when training from scratch, the dataset in this tutorial is too small to get good audio quality.**"
      ]
    },
    {
      "cell_type": "code",
      "execution_count": null,
      "metadata": {
        "id": "G6k4ymzfJ5Y6"
      },
      "outputs": [],
      "source": [
        "audio_filepath_ground_truth = output_audio_dir / \"p228_009.flac\"\n",
        "audio_filepath_reconstructed = codec_log_epoch_dir / \"p228_009_audio_out.wav\"\n",
        "\n",
        "print(\"Ground truth audio.\")\n",
        "ipd.display(ipd.Audio(audio_filepath_ground_truth))\n",
        "\n",
        "print(\"Reconstructed audio.\")\n",
        "ipd.display(ipd.Audio(audio_filepath_reconstructed))\n",
        "\n",
        "dequantized_filepath = codec_log_epoch_dir / \"p228_009_dequantized.png\"\n",
        "ipd.Image(dequantized_filepath)"
      ]
    }
  ],
  "metadata": {
    "kernelspec": {
      "display_name": "Python 3",
      "name": "python3"
    },
    "language_info": {
      "name": "python"
    }
  },
  "nbformat": 4,
  "nbformat_minor": 0
}
